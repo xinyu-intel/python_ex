{
 "cells": [
  {
   "cell_type": "markdown",
   "metadata": {},
   "source": [
    "# Python学习笔记——语言基础"
   ]
  },
  {
   "cell_type": "markdown",
   "metadata": {},
   "source": [
    "Python 是一个高层次的结合了解释性、编译性、互动性和面向对象的脚本语言。\n",
    "\n",
    "Python 的设计具有很强的可读性，相比其他语言经常使用英文关键字，其他语言的一些标点符号，它具有比其他语言更有特色语法结构。\n",
    "\n",
    "**Python 是一种解释型语言：**这意味着开发过程中没有了编译这个环节。类似于PHP和Perl语言；\n",
    "\n",
    "**Python 是交互式语言：**这意味着，您可以在一个Python提示符，直接互动执行写你的程序；\n",
    "\n",
    "**Python 是面向对象语言：**这意味着Python支持面向对象的风格或代码封装在对象的编程技术；\n",
    "\n",
    "**Python 是初学者的语言：**Python对初级程序员而言，是一种伟大的语言，它支持广泛的应用程序开发，从简单的文字处理到 WWW 浏览器再到游戏。\n",
    "\n",
    "本文举例解释了一些python3的基本语法，相对于Python的早期版本，这是一个较大的升级。\n",
    "\n",
    "本文代码均在Anaconda3平台测试通过，Anaconda是由Python开发的领先的开放数据科学平台。Anaconda的开源版本是Python和R的高性能分发版，包括超过100种最流行的数据科学Python，R和Scala软件包，因此特别推荐在数据分析工作中使用。"
   ]
  },
  {
   "cell_type": "markdown",
   "metadata": {},
   "source": [
    "## print语句"
   ]
  },
  {
   "cell_type": "code",
   "execution_count": 1,
   "metadata": {
    "collapsed": false
   },
   "outputs": [
    {
     "name": "stdout",
     "output_type": "stream",
     "text": [
      "Hello,World\n"
     ]
    }
   ],
   "source": [
    "print (\"Hello,World\");"
   ]
  },
  {
   "cell_type": "code",
   "execution_count": 2,
   "metadata": {
    "collapsed": false
   },
   "outputs": [
    {
     "name": "stdout",
     "output_type": "stream",
     "text": [
      "你好，世界\n"
     ]
    }
   ],
   "source": [
    "print (\"你好，世界\");"
   ]
  },
  {
   "cell_type": "markdown",
   "metadata": {},
   "source": [
    "## 条件语句"
   ]
  },
  {
   "cell_type": "code",
   "execution_count": 3,
   "metadata": {
    "collapsed": false
   },
   "outputs": [
    {
     "name": "stdout",
     "output_type": "stream",
     "text": [
      "luren\n"
     ]
    }
   ],
   "source": [
    "flag=False\n",
    "name='luren'\n",
    "if name=='python':\n",
    "    flag=True\n",
    "    print ('welcome boss')\n",
    "else:\n",
    "    print (name)"
   ]
  },
  {
   "cell_type": "code",
   "execution_count": 4,
   "metadata": {
    "collapsed": false
   },
   "outputs": [
    {
     "name": "stdout",
     "output_type": "stream",
     "text": [
      "roadman\n"
     ]
    }
   ],
   "source": [
    "num = 5     \n",
    "if num == 3:            # 判断num的值\n",
    "    print ('boss')        \n",
    "elif num == 2:\n",
    "    print ('user')\n",
    "elif num == 1:\n",
    "    print ('worker')\n",
    "elif num < 0:           # 值小于零时输出\n",
    "    print ('error')\n",
    "else:\n",
    "    print ('roadman')     # 条件均不成立时输出"
   ]
  },
  {
   "cell_type": "code",
   "execution_count": 5,
   "metadata": {
    "collapsed": false
   },
   "outputs": [
    {
     "name": "stdout",
     "output_type": "stream",
     "text": [
      "hello\n"
     ]
    }
   ],
   "source": [
    "num = 9\n",
    "if num >= 0 and num <= 10:    # 判断值是否在0~10之间\n",
    "    print ('hello')"
   ]
  },
  {
   "cell_type": "code",
   "execution_count": 6,
   "metadata": {
    "collapsed": false
   },
   "outputs": [
    {
     "name": "stdout",
     "output_type": "stream",
     "text": [
      "undefine\n"
     ]
    }
   ],
   "source": [
    "num = 10\n",
    "if num < 0 or num > 10:    # 判断值是否在小于0或大于10\n",
    "    print ('hello')\n",
    "else:\n",
    "    print ('undefine')"
   ]
  },
  {
   "cell_type": "code",
   "execution_count": 7,
   "metadata": {
    "collapsed": false
   },
   "outputs": [
    {
     "name": "stdout",
     "output_type": "stream",
     "text": [
      "undefine\n"
     ]
    }
   ],
   "source": [
    "num = 8\n",
    "# 判断值是否在0~5或者10~15之间\n",
    "if (num >= 0 and num <= 5) or (num >= 10 and num <= 15):    \n",
    "    print ('hello')\n",
    "else:\n",
    "    print ('undefine')"
   ]
  },
  {
   "cell_type": "code",
   "execution_count": 8,
   "metadata": {
    "collapsed": false
   },
   "outputs": [
    {
     "name": "stdout",
     "output_type": "stream",
     "text": [
      "hello\n"
     ]
    }
   ],
   "source": [
    "num = 5\n",
    "# 判断值是否在0~5或者10~15之间\n",
    "if (num >= 0 and num <= 5) or (num >= 10 and num <= 15):    \n",
    "    print ('hello')\n",
    "else:\n",
    "    print ('undefine')"
   ]
  },
  {
   "cell_type": "code",
   "execution_count": 9,
   "metadata": {
    "collapsed": false
   },
   "outputs": [
    {
     "name": "stdout",
     "output_type": "stream",
     "text": [
      "变量 var 的值为100\n",
      "Good bye!\n"
     ]
    }
   ],
   "source": [
    "var = 100 \n",
    " \n",
    "if ( var  == 100 ) : print (\"变量 var 的值为100\")\n",
    " \n",
    "print (\"Good bye!\") "
   ]
  },
  {
   "cell_type": "markdown",
   "metadata": {},
   "source": [
    "## 循环语句"
   ]
  },
  {
   "cell_type": "markdown",
   "metadata": {},
   "source": [
    "### while循环"
   ]
  },
  {
   "cell_type": "code",
   "execution_count": 10,
   "metadata": {
    "collapsed": true
   },
   "outputs": [],
   "source": [
    "numbers=[12,37,5,42,8,3]\n",
    "even=[]\n",
    "odd=[]\n",
    "while len(numbers)>0:\n",
    "    number=numbers.pop()\n",
    "    if(number % 2==0):\n",
    "        even.append(number)\n",
    "    else:\n",
    "        odd.append(number)"
   ]
  },
  {
   "cell_type": "code",
   "execution_count": 11,
   "metadata": {
    "collapsed": false
   },
   "outputs": [
    {
     "data": {
      "text/plain": [
       "[8, 42, 12]"
      ]
     },
     "execution_count": 11,
     "metadata": {},
     "output_type": "execute_result"
    }
   ],
   "source": [
    "even"
   ]
  },
  {
   "cell_type": "code",
   "execution_count": 12,
   "metadata": {
    "collapsed": false
   },
   "outputs": [
    {
     "data": {
      "text/plain": [
       "[3, 5, 37]"
      ]
     },
     "execution_count": 12,
     "metadata": {},
     "output_type": "execute_result"
    }
   ],
   "source": [
    "odd"
   ]
  },
  {
   "cell_type": "code",
   "execution_count": 13,
   "metadata": {
    "collapsed": false
   },
   "outputs": [
    {
     "name": "stdout",
     "output_type": "stream",
     "text": [
      "The count is: 0\n",
      "The count is: 1\n",
      "The count is: 2\n",
      "The count is: 3\n",
      "The count is: 4\n",
      "The count is: 5\n",
      "The count is: 6\n",
      "The count is: 7\n",
      "The count is: 8\n",
      "The count is: 9\n",
      "Good bye\n"
     ]
    }
   ],
   "source": [
    "count=0\n",
    "while(count<10):\n",
    "    print ('The count is:',count)\n",
    "    count += 1\n",
    "print ('Good bye')"
   ]
  },
  {
   "cell_type": "code",
   "execution_count": 14,
   "metadata": {
    "collapsed": false
   },
   "outputs": [
    {
     "name": "stdout",
     "output_type": "stream",
     "text": [
      "2\n",
      "4\n",
      "6\n",
      "8\n",
      "10\n"
     ]
    }
   ],
   "source": [
    "i = 1\n",
    "while i < 10:   \n",
    "    i += 1\n",
    "    if i%2 > 0:     # 非双数时跳过输出\n",
    "        continue\n",
    "    print (i)"
   ]
  },
  {
   "cell_type": "code",
   "execution_count": 15,
   "metadata": {
    "collapsed": false
   },
   "outputs": [
    {
     "name": "stdout",
     "output_type": "stream",
     "text": [
      "1\n",
      "2\n",
      "3\n",
      "4\n",
      "5\n",
      "6\n",
      "7\n",
      "8\n",
      "9\n",
      "10\n"
     ]
    }
   ],
   "source": [
    "i = 1\n",
    "while 1:            # 循环条件为1必定成立\n",
    "    print (i)         # 输出1~10\n",
    "    i += 1\n",
    "    if i > 10:     # 当i大于10时跳出循环\n",
    "        break"
   ]
  },
  {
   "cell_type": "code",
   "execution_count": 16,
   "metadata": {
    "collapsed": false
   },
   "outputs": [
    {
     "name": "stdout",
     "output_type": "stream",
     "text": [
      "0  is  less than 5\n",
      "1  is  less than 5\n",
      "2  is  less than 5\n",
      "3  is  less than 5\n",
      "4  is  less than 5\n",
      "5  is not less than 5\n"
     ]
    }
   ],
   "source": [
    "count = 0\n",
    "while count < 5:\n",
    "   print (count, \" is  less than 5\")\n",
    "   count = count + 1\n",
    "else:\n",
    "   print (count, \" is not less than 5\")"
   ]
  },
  {
   "cell_type": "markdown",
   "metadata": {},
   "source": [
    "### for循环"
   ]
  },
  {
   "cell_type": "code",
   "execution_count": 17,
   "metadata": {
    "collapsed": false
   },
   "outputs": [
    {
     "name": "stdout",
     "output_type": "stream",
     "text": [
      "当前字母 : P\n",
      "当前字母 : y\n",
      "当前字母 : t\n",
      "当前字母 : h\n",
      "当前字母 : o\n",
      "当前字母 : n\n"
     ]
    }
   ],
   "source": [
    "for letter in 'Python':     # 第一个实例\n",
    "   print ('当前字母 :', letter)"
   ]
  },
  {
   "cell_type": "code",
   "execution_count": 18,
   "metadata": {
    "collapsed": false
   },
   "outputs": [
    {
     "name": "stdout",
     "output_type": "stream",
     "text": [
      "当前字母 : banana\n",
      "当前字母 : apple\n",
      "当前字母 : mango\n"
     ]
    }
   ],
   "source": [
    "fruits = ['banana', 'apple',  'mango']\n",
    "for fruit in fruits:        # 第二个实例\n",
    "   print ('当前字母 :', fruit)"
   ]
  },
  {
   "cell_type": "code",
   "execution_count": 19,
   "metadata": {
    "collapsed": false
   },
   "outputs": [
    {
     "name": "stdout",
     "output_type": "stream",
     "text": [
      "当前水果 : banana\n",
      "当前水果 : apple\n",
      "当前水果 : mango\n",
      "Good bye!\n"
     ]
    }
   ],
   "source": [
    "fruits = ['banana', 'apple',  'mango']\n",
    "for index in range(len(fruits)):\n",
    "   print ('当前水果 :', fruits[index])\n",
    " \n",
    "print (\"Good bye!\")"
   ]
  },
  {
   "cell_type": "markdown",
   "metadata": {},
   "source": [
    "### break语句"
   ]
  },
  {
   "cell_type": "code",
   "execution_count": 20,
   "metadata": {
    "collapsed": false
   },
   "outputs": [
    {
     "name": "stdout",
     "output_type": "stream",
     "text": [
      "10 等于 2 * 5\n",
      "11 是一个质数\n",
      "12 等于 2 * 6\n",
      "13 是一个质数\n",
      "14 等于 2 * 7\n",
      "15 等于 3 * 5\n",
      "16 等于 2 * 8\n",
      "17 是一个质数\n",
      "18 等于 2 * 9\n",
      "19 是一个质数\n"
     ]
    }
   ],
   "source": [
    "for num in range(10,20):  # 迭代 10 到 20 之间的数字\n",
    "   for i in range(2,num): # 根据因子迭代\n",
    "      if num%i == 0:      # 确定第一个因子\n",
    "         j=num/i          # 计算第二个因子\n",
    "         print ('%d 等于 %d * %d' % (num,i,j))\n",
    "         break            # 跳出当前循环\n",
    "   else:                  # 循环的 else 部分\n",
    "      print (num, '是一个质数')"
   ]
  },
  {
   "cell_type": "code",
   "execution_count": 21,
   "metadata": {
    "collapsed": false
   },
   "outputs": [
    {
     "name": "stdout",
     "output_type": "stream",
     "text": [
      "num 等于 i * j\n",
      "11 是一个质数\n",
      "num 等于 i * j\n",
      "13 是一个质数\n",
      "num 等于 i * j\n",
      "num 等于 i * j\n",
      "num 等于 i * j\n",
      "17 是一个质数\n",
      "num 等于 i * j\n",
      "19 是一个质数\n"
     ]
    }
   ],
   "source": [
    "for num in range(10,20):  # 迭代 10 到 20 之间的数字\n",
    "   for i in range(2,num): # 根据因子迭代\n",
    "      if num%i == 0:      # 确定第一个因子\n",
    "         j=num/i          # 计算第二个因子\n",
    "         print ('num 等于 i * j')\n",
    "         break            # 跳出当前循环\n",
    "   else:                  # 循环的 else 部分\n",
    "      print (num, '是一个质数')"
   ]
  },
  {
   "cell_type": "code",
   "execution_count": 22,
   "metadata": {
    "collapsed": false
   },
   "outputs": [
    {
     "name": "stdout",
     "output_type": "stream",
     "text": [
      "10 等于 10.0\n",
      "11 是一个质数\n",
      "12 等于 12.0\n",
      "13 是一个质数\n",
      "14 等于 14.0\n",
      "15 等于 15.0\n",
      "16 等于 16.0\n",
      "17 是一个质数\n",
      "18 等于 18.0\n",
      "19 是一个质数\n"
     ]
    }
   ],
   "source": [
    "for num in range(10,20):  # 迭代 10 到 20 之间的数字\n",
    "   for i in range(2,num): # 根据因子迭代\n",
    "      if num%i == 0:      # 确定第一个因子\n",
    "         j=num/i          # 计算第二个因子\n",
    "         print (num ,'等于', i * j)\n",
    "         break            # 跳出当前循环\n",
    "   else:                  # 循环的 else 部分\n",
    "      print (num, '是一个质数')"
   ]
  },
  {
   "cell_type": "code",
   "execution_count": 23,
   "metadata": {
    "collapsed": false
   },
   "outputs": [
    {
     "name": "stdout",
     "output_type": "stream",
     "text": [
      "10 等于 2 * 5.0\n",
      "11 是一个质数\n",
      "12 等于 2 * 6.0\n",
      "13 是一个质数\n",
      "14 等于 2 * 7.0\n",
      "15 等于 3 * 5.0\n",
      "16 等于 2 * 8.0\n",
      "17 是一个质数\n",
      "18 等于 2 * 9.0\n",
      "19 是一个质数\n"
     ]
    }
   ],
   "source": [
    "for num in range(10,20):  # 迭代 10 到 20 之间的数字\n",
    "   for i in range(2,num): # 根据因子迭代\n",
    "      if num%i == 0:      # 确定第一个因子\n",
    "         j=num/i          # 计算第二个因子\n",
    "         print (num ,'等于',i,'*',j)\n",
    "         break            # 跳出当前循环\n",
    "   else:                  # 循环的 else 部分\n",
    "      print (num, '是一个质数')"
   ]
  },
  {
   "cell_type": "code",
   "execution_count": 24,
   "metadata": {
    "collapsed": false
   },
   "outputs": [
    {
     "name": "stdout",
     "output_type": "stream",
     "text": [
      "2  是素数\n",
      "3  是素数\n",
      "5  是素数\n",
      "7  是素数\n",
      "11  是素数\n",
      "13  是素数\n",
      "17  是素数\n",
      "19  是素数\n",
      "23  是素数\n",
      "29  是素数\n",
      "31  是素数\n",
      "37  是素数\n",
      "41  是素数\n",
      "43  是素数\n",
      "47  是素数\n",
      "53  是素数\n",
      "59  是素数\n",
      "61  是素数\n",
      "67  是素数\n",
      "71  是素数\n",
      "73  是素数\n",
      "79  是素数\n",
      "83  是素数\n",
      "89  是素数\n",
      "97  是素数\n",
      "Good bye!\n"
     ]
    }
   ],
   "source": [
    "i = 2\n",
    "while(i < 100):\n",
    "   j = 2\n",
    "   while(j <= (i/j)):\n",
    "      if not(i%j): break\n",
    "      j = j + 1\n",
    "   if (j > i/j) : print (i, \" 是素数\")\n",
    "   i = i + 1\n",
    "\n",
    "print (\"Good bye!\")"
   ]
  },
  {
   "cell_type": "code",
   "execution_count": 25,
   "metadata": {
    "collapsed": false
   },
   "outputs": [
    {
     "name": "stdout",
     "output_type": "stream",
     "text": [
      "2  是素数 2\n",
      "3  是素数 2\n",
      "5  是素数 3\n",
      "7  是素数 3\n",
      "11  是素数 4\n",
      "13  是素数 4\n",
      "17  是素数 5\n",
      "19  是素数 5\n",
      "23  是素数 5\n",
      "29  是素数 6\n",
      "31  是素数 6\n",
      "37  是素数 7\n",
      "41  是素数 7\n",
      "43  是素数 7\n",
      "47  是素数 7\n",
      "53  是素数 8\n",
      "59  是素数 8\n",
      "61  是素数 8\n",
      "67  是素数 9\n",
      "71  是素数 9\n",
      "73  是素数 9\n",
      "79  是素数 9\n",
      "83  是素数 10\n",
      "89  是素数 10\n",
      "97  是素数 10\n",
      "Good bye!\n"
     ]
    }
   ],
   "source": [
    "i = 2\n",
    "while(i < 100):\n",
    "   j = 2\n",
    "   while(j <= (i/j)):\n",
    "      if not(i%j): break\n",
    "      j = j + 1\n",
    "   if (j > i/j) : print (i, \" 是素数\",j)\n",
    "   i = i + 1\n",
    "\n",
    "print (\"Good bye!\")"
   ]
  },
  {
   "cell_type": "code",
   "execution_count": 26,
   "metadata": {
    "collapsed": false
   },
   "outputs": [
    {
     "name": "stdout",
     "output_type": "stream",
     "text": [
      "2  是素数 True\n",
      "3  是素数 False\n",
      "5  是素数 False\n",
      "7  是素数 False\n",
      "11  是素数 False\n",
      "13  是素数 False\n",
      "17  是素数 False\n",
      "19  是素数 False\n",
      "23  是素数 False\n",
      "29  是素数 False\n",
      "31  是素数 False\n",
      "37  是素数 False\n",
      "41  是素数 False\n",
      "43  是素数 False\n",
      "47  是素数 False\n",
      "53  是素数 False\n",
      "59  是素数 False\n",
      "61  是素数 False\n",
      "67  是素数 False\n",
      "71  是素数 False\n",
      "73  是素数 False\n",
      "79  是素数 False\n",
      "83  是素数 False\n",
      "89  是素数 False\n",
      "97  是素数 False\n",
      "Good bye!\n"
     ]
    }
   ],
   "source": [
    "i = 2\n",
    "while(i < 100):\n",
    "   j = 2\n",
    "   while(j <= (i/j)):\n",
    "      if not(i%j): break\n",
    "      j = j + 1\n",
    "   if (j > i/j) : print (i, \" 是素数\",not(i%j))\n",
    "   i = i + 1\n",
    "\n",
    "print (\"Good bye!\")"
   ]
  },
  {
   "cell_type": "code",
   "execution_count": 27,
   "metadata": {
    "collapsed": false
   },
   "outputs": [
    {
     "name": "stdout",
     "output_type": "stream",
     "text": [
      "2  是素数\n",
      "3  是素数\n",
      "1\n",
      "5  是素数\n",
      "1\n",
      "7  是素数\n",
      "1\n",
      "1\n",
      "2\n",
      "11  是素数\n",
      "1\n",
      "1\n",
      "13  是素数\n",
      "1\n",
      "1\n",
      "2\n",
      "1\n",
      "17  是素数\n",
      "1\n",
      "1\n",
      "3\n",
      "19  是素数\n",
      "1\n",
      "1\n",
      "2\n",
      "3\n",
      "23  是素数\n",
      "1\n",
      "1\n",
      "1\n",
      "1\n",
      "1\n",
      "2\n",
      "1\n",
      "4\n",
      "29  是素数\n",
      "1\n",
      "1\n",
      "3\n",
      "1\n",
      "31  是素数\n",
      "1\n",
      "1\n",
      "2\n",
      "3\n",
      "1\n",
      "1\n",
      "1\n",
      "2\n",
      "1\n",
      "37  是素数\n",
      "1\n",
      "1\n",
      "2\n",
      "1\n",
      "1\n",
      "5\n",
      "41  是素数\n",
      "1\n",
      "1\n",
      "3\n",
      "3\n",
      "1\n",
      "43  是素数\n",
      "1\n",
      "1\n",
      "2\n",
      "3\n",
      "2\n",
      "5\n",
      "47  是素数\n",
      "1\n",
      "1\n",
      "1\n",
      "4\n",
      "1\n",
      "1\n",
      "1\n",
      "2\n",
      "1\n",
      "3\n",
      "5\n",
      "4\n",
      "53  是素数\n",
      "1\n",
      "1\n",
      "3\n",
      "1\n",
      "1\n",
      "2\n",
      "3\n",
      "4\n",
      "5\n",
      "3\n",
      "59  是素数\n",
      "1\n",
      "1\n",
      "1\n",
      "1\n",
      "1\n",
      "5\n",
      "61  是素数\n",
      "1\n",
      "1\n",
      "2\n",
      "1\n",
      "1\n",
      "1\n",
      "3\n",
      "2\n",
      "1\n",
      "4\n",
      "3\n",
      "67  是素数\n",
      "1\n",
      "1\n",
      "2\n",
      "3\n",
      "1\n",
      "5\n",
      "1\n",
      "7\n",
      "71  是素数\n",
      "1\n",
      "1\n",
      "1\n",
      "3\n",
      "1\n",
      "3\n",
      "1\n",
      "73  是素数\n",
      "1\n",
      "1\n",
      "2\n",
      "1\n",
      "2\n",
      "5\n",
      "1\n",
      "1\n",
      "3\n",
      "4\n",
      "1\n",
      "2\n",
      "7\n",
      "79  是素数\n",
      "1\n",
      "1\n",
      "2\n",
      "3\n",
      "3\n",
      "5\n",
      "6\n",
      "3\n",
      "2\n",
      "83  是素数\n",
      "1\n",
      "1\n",
      "1\n",
      "1\n",
      "1\n",
      "2\n",
      "1\n",
      "4\n",
      "5\n",
      "5\n",
      "1\n",
      "8\n",
      "89  是素数\n",
      "1\n",
      "1\n",
      "3\n",
      "1\n",
      "1\n",
      "1\n",
      "1\n",
      "2\n",
      "3\n",
      "1\n",
      "1\n",
      "1\n",
      "2\n",
      "1\n",
      "6\n",
      "1\n",
      "7\n",
      "97  是素数\n",
      "1\n",
      "Good bye!\n"
     ]
    }
   ],
   "source": [
    "i = 2\n",
    "while(i < 100):\n",
    "   j = 2\n",
    "   while(j <= (i/j)):\n",
    "      if not(i%j): break\n",
    "      print (i%j)\n",
    "      j = j + 1\n",
    "   if (j > i/j) : print (i, \" 是素数\")\n",
    "   i = i + 1\n",
    "\n",
    "print (\"Good bye!\")"
   ]
  },
  {
   "cell_type": "code",
   "execution_count": 28,
   "metadata": {
    "collapsed": false
   },
   "outputs": [
    {
     "data": {
      "text/plain": [
       "False"
      ]
     },
     "execution_count": 28,
     "metadata": {},
     "output_type": "execute_result"
    }
   ],
   "source": [
    "not(3%2)"
   ]
  },
  {
   "cell_type": "code",
   "execution_count": 29,
   "metadata": {
    "collapsed": false
   },
   "outputs": [
    {
     "name": "stdout",
     "output_type": "stream",
     "text": [
      "Current Letter : P\n",
      "Current Letter : y\n",
      "Current Letter : t\n",
      "Current variable value : 10\n",
      "Current variable value : 9\n",
      "Current variable value : 8\n",
      "Current variable value : 7\n",
      "Current variable value : 6\n",
      "Good bye!\n"
     ]
    }
   ],
   "source": [
    "for letter in 'Python':     # First Example\n",
    "   if letter == 'h':\n",
    "      break\n",
    "   print ('Current Letter :', letter)\n",
    "  \n",
    "var = 10                    # Second Example\n",
    "while var > 0:              \n",
    "   print ('Current variable value :', var)\n",
    "   var = var -1\n",
    "   if var == 5:\n",
    "      break\n",
    "\n",
    "print (\"Good bye!\")"
   ]
  },
  {
   "cell_type": "markdown",
   "metadata": {},
   "source": [
    "### continue语句"
   ]
  },
  {
   "cell_type": "code",
   "execution_count": 30,
   "metadata": {
    "collapsed": false
   },
   "outputs": [
    {
     "name": "stdout",
     "output_type": "stream",
     "text": [
      "当前字母 : P\n",
      "当前字母 : y\n",
      "当前字母 : t\n",
      "当前字母 : o\n",
      "当前字母 : n\n",
      "当前变量值 : 9\n",
      "当前变量值 : 8\n",
      "当前变量值 : 7\n",
      "当前变量值 : 6\n",
      "当前变量值 : 4\n",
      "当前变量值 : 3\n",
      "当前变量值 : 2\n",
      "当前变量值 : 1\n",
      "当前变量值 : 0\n",
      "Good bye!\n"
     ]
    }
   ],
   "source": [
    "for letter in 'Python':     # 第一个实例\n",
    "   if letter == 'h':\n",
    "      continue\n",
    "   print ('当前字母 :', letter)\n",
    "\n",
    "var = 10                    # 第二个实例\n",
    "while var > 0:              \n",
    "   var = var -1\n",
    "   if var == 5:\n",
    "      continue\n",
    "   print ('当前变量值 :', var)\n",
    "print (\"Good bye!\")"
   ]
  },
  {
   "cell_type": "markdown",
   "metadata": {},
   "source": [
    "## 字符串处理"
   ]
  },
  {
   "cell_type": "code",
   "execution_count": 31,
   "metadata": {
    "collapsed": false
   },
   "outputs": [
    {
     "name": "stdout",
     "output_type": "stream",
     "text": [
      "a + b 输出结果： HelloPython\n",
      "a * 2 输出结果： HelloHello\n",
      "a[1] 输出结果： e\n",
      "a[1:4] 输出结果： ell\n",
      "H 在变量 a 中\n",
      "M 不在变量 a 中\n",
      "\\n\n",
      "\\n\n"
     ]
    }
   ],
   "source": [
    "a = \"Hello\"\n",
    "b = \"Python\"\n",
    "\n",
    "print (\"a + b 输出结果：\", a + b) \n",
    "print (\"a * 2 输出结果：\", a * 2) \n",
    "print (\"a[1] 输出结果：\", a[1]) \n",
    "print (\"a[1:4] 输出结果：\", a[1:4]) \n",
    "\n",
    "if( \"H\" in a) :\n",
    "    print (\"H 在变量 a 中\") \n",
    "else :\n",
    "    print (\"H 不在变量 a 中\") \n",
    "\n",
    "if( \"M\" not in a) :\n",
    "    print (\"M 不在变量 a 中\") \n",
    "else :\n",
    "    print (\"M 在变量 a 中\")\n",
    "\n",
    "print (r'\\n')\n",
    "print (R'\\n')"
   ]
  },
  {
   "cell_type": "markdown",
   "metadata": {},
   "source": [
    "## 日期和时间"
   ]
  },
  {
   "cell_type": "code",
   "execution_count": 32,
   "metadata": {
    "collapsed": false
   },
   "outputs": [
    {
     "data": {
      "text/plain": [
       "1493644452.247394"
      ]
     },
     "execution_count": 32,
     "metadata": {},
     "output_type": "execute_result"
    }
   ],
   "source": [
    "import time;\n",
    "time.time()"
   ]
  },
  {
   "cell_type": "code",
   "execution_count": 33,
   "metadata": {
    "collapsed": false
   },
   "outputs": [
    {
     "name": "stdout",
     "output_type": "stream",
     "text": [
      "本地时间为 : time.struct_time(tm_year=2017, tm_mon=5, tm_mday=1, tm_hour=21, tm_min=14, tm_sec=12, tm_wday=0, tm_yday=121, tm_isdst=0)\n"
     ]
    }
   ],
   "source": [
    "localtime = time.localtime(time.time())\n",
    "print (\"本地时间为 :\", localtime)"
   ]
  },
  {
   "cell_type": "code",
   "execution_count": 34,
   "metadata": {
    "collapsed": false
   },
   "outputs": [
    {
     "name": "stdout",
     "output_type": "stream",
     "text": [
      "本地时间为 : Mon May  1 21:14:12 2017\n"
     ]
    }
   ],
   "source": [
    "localtime = time.asctime( time.localtime(time.time()) )\n",
    "print (\"本地时间为 :\", localtime)"
   ]
  },
  {
   "cell_type": "code",
   "execution_count": 35,
   "metadata": {
    "collapsed": false
   },
   "outputs": [
    {
     "name": "stdout",
     "output_type": "stream",
     "text": [
      "2017-05-01 21:14:12\n",
      "Mon May 01 21:14:12 2017\n",
      "1459175064.0\n"
     ]
    }
   ],
   "source": [
    "# 格式化成2016-03-20 11:45:39形式\n",
    "print (time.strftime(\"%Y-%m-%d %H:%M:%S\", time.localtime())) \n",
    "\n",
    "# 格式化成Sat Mar 28 22:24:24 2016形式\n",
    "print (time.strftime(\"%a %b %d %H:%M:%S %Y\", time.localtime())) \n",
    "  \n",
    "# 将格式字符串转换为时间戳\n",
    "a = \"Sat Mar 28 22:24:24 2016\"\n",
    "print (time.mktime(time.strptime(a,\"%a %b %d %H:%M:%S %Y\")))"
   ]
  },
  {
   "cell_type": "code",
   "execution_count": 36,
   "metadata": {
    "collapsed": false
   },
   "outputs": [
    {
     "name": "stdout",
     "output_type": "stream",
     "text": [
      "以下输出2016年1月份的日历:\n",
      "    January 2016\n",
      "Mo Tu We Th Fr Sa Su\n",
      "             1  2  3\n",
      " 4  5  6  7  8  9 10\n",
      "11 12 13 14 15 16 17\n",
      "18 19 20 21 22 23 24\n",
      "25 26 27 28 29 30 31\n",
      "\n"
     ]
    }
   ],
   "source": [
    "import calendar\n",
    "\n",
    "cal = calendar.month(2016, 1)\n",
    "print (\"以下输出2016年1月份的日历:\")\n",
    "print (cal);"
   ]
  },
  {
   "cell_type": "markdown",
   "metadata": {},
   "source": [
    "## 函数"
   ]
  },
  {
   "cell_type": "code",
   "execution_count": 37,
   "metadata": {
    "collapsed": false
   },
   "outputs": [
    {
     "name": "stdout",
     "output_type": "stream",
     "text": [
      "我要调用用户自定义函数!\n",
      "再次调用同一函数\n"
     ]
    }
   ],
   "source": [
    "def printme( str ):\n",
    "   \"打印任何传入的字符串\"\n",
    "   print (str);\n",
    "   return;\n",
    " \n",
    "# 调用函数\n",
    "printme(\"我要调用用户自定义函数!\");\n",
    "printme(\"再次调用同一函数\");"
   ]
  },
  {
   "cell_type": "code",
   "execution_count": 38,
   "metadata": {
    "collapsed": false
   },
   "outputs": [
    {
     "name": "stdout",
     "output_type": "stream",
     "text": [
      "21\n"
     ]
    }
   ],
   "source": [
    "def fx(x):\n",
    "    y=4*x+5\n",
    "    print (y);\n",
    "    return;\n",
    "\n",
    "fx(4);"
   ]
  },
  {
   "cell_type": "code",
   "execution_count": 39,
   "metadata": {
    "collapsed": false
   },
   "outputs": [
    {
     "name": "stdout",
     "output_type": "stream",
     "text": [
      "函数内取值:  [10, 20, 30, [1, 2, 3, 4]]\n",
      "函数外取值:  [10, 20, 30, [1, 2, 3, 4]]\n"
     ]
    }
   ],
   "source": [
    "def changeme( mylist ):\n",
    "   \"修改传入的列表\"\n",
    "   mylist.append([1,2,3,4]);\n",
    "   print (\"函数内取值: \", mylist)\n",
    "   return\n",
    " \n",
    "# 调用changeme函数\n",
    "mylist = [10,20,30];\n",
    "changeme( mylist );\n",
    "print (\"函数外取值: \", mylist)"
   ]
  },
  {
   "cell_type": "code",
   "execution_count": 40,
   "metadata": {
    "collapsed": false
   },
   "outputs": [
    {
     "name": "stdout",
     "output_type": "stream",
     "text": [
      "函数内取值:  [10, 20, 30, 1, 2, 3, 4]\n",
      "函数外取值:  [10, 20, 30, 1, 2, 3, 4]\n"
     ]
    }
   ],
   "source": [
    "def changeme( mylist ):\n",
    "   \"修改传入的列表\"\n",
    "   mylist += [1,2,3,4];\n",
    "   print (\"函数内取值: \", mylist)\n",
    "   return\n",
    " \n",
    "# 调用changeme函数\n",
    "mylist = [10,20,30];\n",
    "changeme( mylist );\n",
    "print (\"函数外取值: \", mylist)"
   ]
  },
  {
   "cell_type": "code",
   "execution_count": 41,
   "metadata": {
    "collapsed": false
   },
   "outputs": [
    {
     "name": "stdout",
     "output_type": "stream",
     "text": [
      "Name:  miki\n",
      "Age  50\n"
     ]
    }
   ],
   "source": [
    "def printinfo( name, age ):\n",
    "   \"打印任何传入的字符串\"\n",
    "   print (\"Name: \", name);\n",
    "   print (\"Age \", age);\n",
    "   return;\n",
    " \n",
    "#调用printinfo函数\n",
    "printinfo( age=50, name=\"miki\" );"
   ]
  },
  {
   "cell_type": "code",
   "execution_count": 42,
   "metadata": {
    "collapsed": false
   },
   "outputs": [
    {
     "name": "stdout",
     "output_type": "stream",
     "text": [
      "Name:  10\n",
      "Age  50\n"
     ]
    }
   ],
   "source": [
    "def printinfo( name, age ):\n",
    "   \"打印任何传入的字符串\"\n",
    "   print (\"Name: \", name);\n",
    "   print (\"Age \", age);\n",
    "   return;\n",
    " \n",
    "#调用printinfo函数\n",
    "printinfo( age=50, name=\"10\" );"
   ]
  },
  {
   "cell_type": "code",
   "execution_count": 43,
   "metadata": {
    "collapsed": false
   },
   "outputs": [
    {
     "name": "stdout",
     "output_type": "stream",
     "text": [
      "Name:  10\n",
      "Age  50\n",
      "60\n"
     ]
    }
   ],
   "source": [
    "def printinfo( name, age ):\n",
    "   \"打印任何传入的字符串\"\n",
    "   print (\"Name: \", name);\n",
    "   print (\"Age \", age);\n",
    "   z=name+age;\n",
    "   print (z);\n",
    "   return;\n",
    " \n",
    "#调用printinfo函数\n",
    "printinfo( age=50, name=10 );"
   ]
  },
  {
   "cell_type": "code",
   "execution_count": 44,
   "metadata": {
    "collapsed": false
   },
   "outputs": [
    {
     "name": "stdout",
     "output_type": "stream",
     "text": [
      "Name:  miki\n",
      "Age  50\n",
      "Name:  miki\n",
      "Age  35\n"
     ]
    }
   ],
   "source": [
    "def printinfo( name, age = 35 ):\n",
    "   \"打印任何传入的字符串\"\n",
    "   print (\"Name: \", name);\n",
    "   print (\"Age \", age);\n",
    "   return;\n",
    " \n",
    "#调用printinfo函数\n",
    "printinfo( age=50, name=\"miki\" );\n",
    "printinfo( name=\"miki\" );"
   ]
  },
  {
   "cell_type": "code",
   "execution_count": 45,
   "metadata": {
    "collapsed": false
   },
   "outputs": [
    {
     "name": "stdout",
     "output_type": "stream",
     "text": [
      "输出: \n",
      "10\n",
      "输出: \n",
      "70\n",
      "60\n",
      "50\n"
     ]
    }
   ],
   "source": [
    "# 可写函数说明\n",
    "def printinfo( arg1, *vartuple ):\n",
    "   \"打印任何传入的参数\"\n",
    "   print (\"输出: \")\n",
    "   print (arg1)\n",
    "   for var in vartuple:\n",
    "      print (var)\n",
    "   return;\n",
    " \n",
    "# 调用printinfo 函数\n",
    "printinfo( 10 );\n",
    "printinfo( 70, 60, 50 );"
   ]
  },
  {
   "cell_type": "code",
   "execution_count": 46,
   "metadata": {
    "collapsed": false
   },
   "outputs": [
    {
     "name": "stdout",
     "output_type": "stream",
     "text": [
      "相加后的值为 :  30\n",
      "相加后的值为 :  40\n"
     ]
    }
   ],
   "source": [
    "# 可写函数说明\n",
    "sum = lambda arg1, arg2: arg1 + arg2;\n",
    " \n",
    "# 调用sum函数\n",
    "print (\"相加后的值为 : \", sum( 10, 20 ))\n",
    "print (\"相加后的值为 : \", sum( 20, 20 ))"
   ]
  },
  {
   "cell_type": "code",
   "execution_count": 47,
   "metadata": {
    "collapsed": false
   },
   "outputs": [
    {
     "name": "stdout",
     "output_type": "stream",
     "text": [
      "函数内 :  30\n"
     ]
    }
   ],
   "source": [
    "# 可写函数说明\n",
    "def sum( arg1, arg2 ):\n",
    "   # 返回2个参数的和.\"\n",
    "   total = arg1 + arg2\n",
    "   print (\"函数内 : \", total)\n",
    "   return total;\n",
    " \n",
    "# 调用sum函数\n",
    "total = sum( 10, 20 );"
   ]
  },
  {
   "cell_type": "code",
   "execution_count": 48,
   "metadata": {
    "collapsed": false
   },
   "outputs": [
    {
     "name": "stdout",
     "output_type": "stream",
     "text": [
      "函数内 :  30\n"
     ]
    }
   ],
   "source": [
    "# 可写函数说明\n",
    "def sum( arg1, arg2 ):\n",
    "   # 返回2个参数的和.\"\n",
    "   total = arg1 + arg2\n",
    "   print (\"函数内 : \", total);\n",
    " \n",
    "# 调用sum函数\n",
    "total = sum( 10, 20 );"
   ]
  },
  {
   "cell_type": "code",
   "execution_count": 49,
   "metadata": {
    "collapsed": false
   },
   "outputs": [
    {
     "name": "stdout",
     "output_type": "stream",
     "text": [
      "函数内 :  30\n"
     ]
    }
   ],
   "source": [
    "# 可写函数说明\n",
    "def sum( arg1, arg2 ):\n",
    "   # 返回2个参数的和.\"\n",
    "   total = arg1 + arg2\n",
    "   print (\"函数内 : \", total)\n",
    "   return total;\n",
    " \n",
    "# 调用sum函数\n",
    "total = sum( 10, 20 );"
   ]
  },
  {
   "cell_type": "code",
   "execution_count": 50,
   "metadata": {
    "collapsed": false
   },
   "outputs": [
    {
     "name": "stdout",
     "output_type": "stream",
     "text": [
      "函数内是局部变量 :  30\n",
      "函数外是全局变量 :  0\n"
     ]
    }
   ],
   "source": [
    "total = 0; # 这是一个全局变量\n",
    "# 可写函数说明\n",
    "def sum( arg1, arg2 ):\n",
    "   #返回2个参数的和.\"\n",
    "   total = arg1 + arg2; # total在这里是局部变量.\n",
    "   print (\"函数内是局部变量 : \", total)\n",
    "   return total;\n",
    " \n",
    "#调用sum函数\n",
    "sum( 10, 20 );\n",
    "print (\"函数外是全局变量 : \", total) "
   ]
  }
 ],
 "metadata": {
  "anaconda-cloud": {},
  "kernelspec": {
   "display_name": "Python 3",
   "language": "python",
   "name": "python3"
  },
  "language_info": {
   "codemirror_mode": {
    "name": "ipython",
    "version": 3
   },
   "file_extension": ".py",
   "mimetype": "text/x-python",
   "name": "python",
   "nbconvert_exporter": "python",
   "pygments_lexer": "ipython3",
   "version": "3.6.0"
  }
 },
 "nbformat": 4,
 "nbformat_minor": 1
}
